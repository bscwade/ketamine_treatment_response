{
 "cells": [
  {
   "cell_type": "code",
   "execution_count": 1,
   "metadata": {},
   "outputs": [],
   "source": [
    "import pandas as pd\n",
    "import numpy as np\n",
    "import seaborn as sns\n",
    "from factor_analyzer import FactorAnalyzer\n",
    "from factor_analyzer.factor_analyzer import calculate_kmo\n",
    "import sklearn\n",
    "from sklearn.ensemble import GradientBoostingRegressor, RandomForestRegressor\n",
    "from sklearn.linear_model import ElasticNetCV, ElasticNet\n",
    "from sklearn.svm import SVR, LinearSVR\n",
    "from sklearn import preprocessing\n",
    "from sklearn.preprocessing import StandardScaler\n",
    "from sklearn.impute import SimpleImputer\n",
    "from sklearn.metrics import r2_score, mean_absolute_error, mean_squared_error\n",
    "from sklearn.model_selection import cross_val_score, cross_val_predict, cross_validate, GridSearchCV, KFold, StratifiedKFold\n",
    "from sklearn.feature_selection import RFECV, SelectKBest, f_regression, SelectFromModel\n",
    "from sklearn.pipeline import Pipeline\n",
    "from functools import reduce\n",
    "import pickle\n",
    "import itertools\n",
    "from itertools import chain\n",
    "import seaborn as sns\n",
    "import statsmodels.api as sm\n",
    "from statsmodels.formula.api import ols\n",
    "import statsmodels.stats.multicomp as mc\n",
    "import matplotlib.pyplot as plt\n",
    "import warnings\n",
    "warnings.filterwarnings(\"ignore\", category=DeprecationWarning)\n",
    "warnings.simplefilter(action='ignore', category=FutureWarning)"
   ]
  },
  {
   "cell_type": "code",
   "execution_count": 2,
   "metadata": {},
   "outputs": [
    {
     "data": {
      "text/plain": [
       "(60, 448)"
      ]
     },
     "execution_count": 2,
     "metadata": {},
     "output_type": "execute_result"
    }
   ],
   "source": [
    "dem=pd.read_csv('../data/ketamine_endtreatment_hdrs.csv', index_col=[0])\n",
    "dem_followup=pd.read_csv('../data/ketamine_followup_hdrs.csv', index_col=[0])\n",
    "img=pd.read_csv('../data/baseline_rsfc-yeo17_diffusion.csv', index_col=[0])\n",
    "df=dem.merge(img, on='screen_id')\n",
    "df_followup=dem_followup.merge(img, on='screen_id')\n",
    "df.shape"
   ]
  },
  {
   "cell_type": "markdown",
   "metadata": {},
   "source": [
    "## Factor analyze HDRS data\n",
    "#### Compute KMO"
   ]
  },
  {
   "cell_type": "code",
   "execution_count": 3,
   "metadata": {},
   "outputs": [
    {
     "name": "stdout",
     "output_type": "stream",
     "text": [
      "iMSA: [0.62502512 0.57444776 0.46678683 0.66906508 0.48038619 0.30801207\n",
      " 0.48403207 0.64859315 0.43608313 0.5628611  0.55868638 0.63590734\n",
      " 0.48166926 0.49856915 0.59764058 0.50340844 0.53068733] \n",
      "\n",
      "Overall MSA: 0.5366922316301639\n"
     ]
    },
    {
     "name": "stderr",
     "output_type": "stream",
     "text": [
      "/Users/benjaminwade/anaconda3/lib/python3.7/site-packages/factor_analyzer/utils.py:248: UserWarning: The inverse of the variance-covariance matrix was calculated using the Moore-Penrose generalized matrix inversion, due to its determinant being at or very close to zero.\n",
      "  warnings.warn('The inverse of the variance-covariance matrix '\n"
     ]
    }
   ],
   "source": [
    "def get_kmo(data):\n",
    "    hdrs_for_fa=data[data.columns[data.columns.to_series().str.contains('baseline')]]\n",
    "    kmo=calculate_kmo(hdrs_for_fa)\n",
    "    print('iMSA: {} \\n'.format(kmo[0]))\n",
    "    print('Overall MSA: {}'.format(kmo[1]))\n",
    "get_kmo(df)"
   ]
  },
  {
   "cell_type": "markdown",
   "metadata": {},
   "source": [
    "KMO scores are pretty low overall < 0.6 for viable solutions. So I can go ahead with the two-factor solution identified here and interpret with caution and/or add factors from other studies."
   ]
  },
  {
   "cell_type": "code",
   "execution_count": 4,
   "metadata": {},
   "outputs": [
    {
     "name": "stdout",
     "output_type": "stream",
     "text": [
      "Index(['hamd_depressed_mood_change', 'hamd_guilt_change',\n",
      "       'hamd_suicide_change', 'hamd_activities_change',\n",
      "       'hamd_retardation_change', 'hamd_somsxs_gastro_change'],\n",
      "      dtype='object')\n",
      "Index(['hamd_insomnia_early_change', 'hamd_insomnia_middle_change',\n",
      "       'hamd_anxiety_psychic_change', 'hamd_anxiety_somatic_change',\n",
      "       'hamd_somsxs_general_change', 'hamd_hypochondriasis_change'],\n",
      "      dtype='object')\n"
     ]
    }
   ],
   "source": [
    "def get_factor_items(data, n_factors, threshold):\n",
    "    hdrs_for_fa=data[data.columns[data.columns.to_series().str.contains('baseline')]]\n",
    "    hdrs_change=data[data.columns[data.columns.to_series().str.contains('change')]]\n",
    "    fa=FactorAnalyzer(n_factors=n_factors, rotation='oblimin', is_corr_matrix=False)\n",
    "    fa.fit(hdrs_for_fa)\n",
    "    loadings_bool=np.abs(fa.loadings_)>threshold\n",
    "    items=[ hdrs_change.columns[loadings_bool[:,x]] for x in range(n_factors) ]\n",
    "    return items\n",
    "\n",
    "fitems=get_factor_items(df, n_factors=2, threshold=.3)\n",
    "print(fitems[0])\n",
    "print(fitems[1])"
   ]
  },
  {
   "cell_type": "code",
   "execution_count": 5,
   "metadata": {},
   "outputs": [],
   "source": [
    "def compute_factor_scores(data, items):\n",
    "    tmp={}\n",
    "    for i in range(len(items)):\n",
    "        tmp['Factor_{}'.format(i+1)]=data[items[i]].sum(axis=1)\n",
    "    tmp_df=pd.DataFrame.from_dict(tmp)\n",
    "    return(tmp_df)\n",
    "\n",
    "factor_df=compute_factor_scores(df, fitems)\n",
    "factor_df_followup=compute_factor_scores(df_followup, fitems)"
   ]
  },
  {
   "cell_type": "code",
   "execution_count": 6,
   "metadata": {},
   "outputs": [
    {
     "data": {
      "text/html": [
       "<div>\n",
       "<style scoped>\n",
       "    .dataframe tbody tr th:only-of-type {\n",
       "        vertical-align: middle;\n",
       "    }\n",
       "\n",
       "    .dataframe tbody tr th {\n",
       "        vertical-align: top;\n",
       "    }\n",
       "\n",
       "    .dataframe thead th {\n",
       "        text-align: right;\n",
       "    }\n",
       "</style>\n",
       "<table border=\"1\" class=\"dataframe\">\n",
       "  <thead>\n",
       "    <tr style=\"text-align: right;\">\n",
       "      <th></th>\n",
       "      <th>hdrs_17_change</th>\n",
       "      <th>hdrs_6_change</th>\n",
       "      <th>Factor_1</th>\n",
       "      <th>Factor_2</th>\n",
       "    </tr>\n",
       "  </thead>\n",
       "  <tbody>\n",
       "    <tr>\n",
       "      <th>0</th>\n",
       "      <td>-17</td>\n",
       "      <td>-8</td>\n",
       "      <td>-8</td>\n",
       "      <td>-8</td>\n",
       "    </tr>\n",
       "    <tr>\n",
       "      <th>1</th>\n",
       "      <td>-6</td>\n",
       "      <td>-5</td>\n",
       "      <td>-7</td>\n",
       "      <td>3</td>\n",
       "    </tr>\n",
       "    <tr>\n",
       "      <th>2</th>\n",
       "      <td>-21</td>\n",
       "      <td>-14</td>\n",
       "      <td>-9</td>\n",
       "      <td>-10</td>\n",
       "    </tr>\n",
       "    <tr>\n",
       "      <th>3</th>\n",
       "      <td>-12</td>\n",
       "      <td>-6</td>\n",
       "      <td>-7</td>\n",
       "      <td>-4</td>\n",
       "    </tr>\n",
       "    <tr>\n",
       "      <th>4</th>\n",
       "      <td>-5</td>\n",
       "      <td>-4</td>\n",
       "      <td>-5</td>\n",
       "      <td>0</td>\n",
       "    </tr>\n",
       "  </tbody>\n",
       "</table>\n",
       "</div>"
      ],
      "text/plain": [
       "   hdrs_17_change  hdrs_6_change  Factor_1  Factor_2\n",
       "0             -17             -8        -8        -8\n",
       "1              -6             -5        -7         3\n",
       "2             -21            -14        -9       -10\n",
       "3             -12             -6        -7        -4\n",
       "4              -5             -4        -5         0"
      ]
     },
     "execution_count": 6,
     "metadata": {},
     "output_type": "execute_result"
    }
   ],
   "source": [
    "hdrs=pd.DataFrame({\n",
    "    'hdrs_17_change': df[df.columns[df.columns.to_series().str.contains('change')]].sum(axis=1),\n",
    "    'hdrs_6_change': df[['hamd_depressed_mood_change', 'hamd_guilt_change', 'hamd_activities_change','hamd_retardation_change', 'hamd_anxiety_psychic_change', 'hamd_somsxs_general_change']].sum(axis=1)    \n",
    "})\n",
    "hdrs=hdrs.merge(factor_df, right_index=True, left_index=True)\n",
    "\n",
    "hdrs_followup=pd.DataFrame({\n",
    "    'hdrs_17_change': df_followup[df_followup.columns[df_followup.columns.to_series().str.contains('change')]].sum(axis=1),\n",
    "    'hdrs_6_change': df_followup[['hamd_depressed_mood_change', 'hamd_guilt_change', 'hamd_activities_change','hamd_retardation_change', 'hamd_anxiety_psychic_change', 'hamd_somsxs_general_change']].sum(axis=1), \n",
    "})\n",
    "hdrs_followup=hdrs_followup.merge(factor_df_followup, right_index=True, left_index=True)\n",
    "hdrs.head()"
   ]
  },
  {
   "cell_type": "code",
   "execution_count": 7,
   "metadata": {},
   "outputs": [],
   "source": [
    "X=df_followup[img.columns]\n",
    "X=X.drop(['screen_id'], axis=1)"
   ]
  },
  {
   "cell_type": "markdown",
   "metadata": {},
   "source": [
    "## Fit Models"
   ]
  },
  {
   "cell_type": "code",
   "execution_count": 8,
   "metadata": {},
   "outputs": [],
   "source": [
    "imputer=SimpleImputer(missing_values=np.nan, strategy='median')\n",
    "\n",
    "rf_mod=RandomForestRegressor(n_jobs=10, random_state=0)\n",
    "rf_pipeline=Pipeline([('imputation', imputer), ('scale', StandardScaler()), ('selection', SelectKBest(f_regression)), ('random_forest', rf_mod)])\n",
    "\n",
    "gb_mod=GradientBoostingRegressor(random_state=0)\n",
    "gb_pipeline=Pipeline([('imputation', imputer), ('scale', StandardScaler()), ('selection', SelectKBest(f_regression)), ('gb_regressor', gb_mod)])\n",
    "\n",
    "svm_mod=SVR(kernel='linear')\n",
    "svm_pipeline=Pipeline([('imputation', imputer), ('scale', StandardScaler()), ('selection', SelectKBest(f_regression)), ('sv_regressor', svm_mod)])\n",
    "\n",
    "pipelines=[rf_pipeline, gb_pipeline, svm_pipeline]\n",
    "pipe_dict={0: 'RF', 1: 'GB', 2: 'SVM'}"
   ]
  },
  {
   "cell_type": "code",
   "execution_count": 9,
   "metadata": {},
   "outputs": [],
   "source": [
    "rf_grid={'random_forest__n_estimators': [100, 500, 1000],\n",
    "        'random_forest__max_depth': [2, 4, 6],\n",
    "        'selection__k': [10, 20, 30]}\n",
    "\n",
    "gb_grid={'gb_regressor__n_estimators': [25, 50, 100],\n",
    "        'gb_regressor__learning_rate': [0.05, 0.1, 0.3],\n",
    "        'gb_regressor__max_depth': [2, 4, 6],\n",
    "        'gb_regressor__min_samples_split': [2, 4],\n",
    "        'gb_regressor__min_samples_leaf': [1],\n",
    "        'selection__k': [10, 20, 30]}\n",
    "\n",
    "svr_grid={'sv_regressor__C': [0.01, 0.1, 1, 10],\n",
    "         'selection__k': [10, 20, 30]}\n",
    "\n",
    "parameter_grid_list=[rf_grid, gb_grid, svr_grid]\n",
    "\n",
    "inner_cv = KFold(n_splits=10, shuffle=False, random_state=0)\n",
    "outer_cv = KFold(n_splits=10, shuffle=False, random_state=0)\n",
    "\n",
    "# clf = GridSearchCV(estimator=gb_pipeline, param_grid=gb_grid, cv=inner_cv)\n",
    "# nested_score = cross_val_predict(clf, X=X, y=y, cv=outer_cv)\n",
    "# print(r2_score(y_true=y, y_pred=nested_score))"
   ]
  },
  {
   "cell_type": "code",
   "execution_count": 10,
   "metadata": {},
   "outputs": [
    {
     "name": "stdout",
     "output_type": "stream",
     "text": [
      "Processing RF model for outcome hdrs_17_change...\n",
      "RF R2: -0.328800; MSE: 56.505426 \n",
      "\n",
      "Processing GB model for outcome hdrs_17_change...\n",
      "GB R2: -0.556631; MSE: 66.193630 \n",
      "\n",
      "Processing SVM model for outcome hdrs_17_change...\n",
      "SVM R2: -0.107103; MSE: 47.078066 \n",
      "\n",
      "Processing RF model for outcome hdrs_6_change...\n",
      "RF R2: -0.291869; MSE: 17.341145 \n",
      "\n",
      "Processing GB model for outcome hdrs_6_change...\n",
      "GB R2: -0.373380; MSE: 18.435287 \n",
      "\n",
      "Processing SVM model for outcome hdrs_6_change...\n",
      "SVM R2: -0.187898; MSE: 15.945507 \n",
      "\n",
      "Processing RF model for outcome Factor_1...\n",
      "RF R2: -0.223546; MSE: 16.519986 \n",
      "\n",
      "Processing GB model for outcome Factor_1...\n",
      "GB R2: -0.354867; MSE: 18.293052 \n",
      "\n",
      "Processing SVM model for outcome Factor_1...\n",
      "SVM R2: -0.197327; MSE: 16.165986 \n",
      "\n",
      "Processing RF model for outcome Factor_2...\n",
      "RF R2: 0.012350; MSE: 8.935555 \n",
      "\n",
      "Processing GB model for outcome Factor_2...\n",
      "GB R2: -0.070339; MSE: 9.683668 \n",
      "\n",
      "Processing SVM model for outcome Factor_2...\n",
      "SVM R2: 0.072339; MSE: 8.392814 \n",
      "\n"
     ]
    }
   ],
   "source": [
    "results_by_outcome={}\n",
    "for o, outcome in enumerate(hdrs): # this doesn't need to be enuerated\n",
    "    y_current=hdrs_followup[outcome]\n",
    "    predicted_dict={}\n",
    "    for i, model in enumerate(pipelines):\n",
    "        print('Processing {} model for outcome {}...'.format(pipe_dict[i], outcome))\n",
    "        clf=GridSearchCV(estimator=model, param_grid=parameter_grid_list[i], cv=inner_cv)\n",
    "        predicted=cross_val_predict(clf, X=X, y=y_current, cv=outer_cv)\n",
    "        predicted_dict[pipe_dict[i]]=predicted\n",
    "        print('{} R2: {:2f}; MSE: {:2f} \\n'.format(pipe_dict[i], r2_score(y_true=y_current, y_pred=predicted), mean_squared_error(y_true=y_current, y_pred=predicted)))\n",
    "    results_by_outcome[outcome]=predicted_dict"
   ]
  },
  {
   "cell_type": "code",
   "execution_count": 11,
   "metadata": {},
   "outputs": [
    {
     "data": {
      "text/plain": [
       "(51, 411)"
      ]
     },
     "execution_count": 11,
     "metadata": {},
     "output_type": "execute_result"
    }
   ],
   "source": [
    "X.shape"
   ]
  },
  {
   "cell_type": "code",
   "execution_count": 12,
   "metadata": {},
   "outputs": [
    {
     "name": "stdout",
     "output_type": "stream",
     "text": [
      "0 hdrs_17_change\n",
      "1 hdrs_6_change\n",
      "2 Factor_1\n",
      "3 Factor_2\n",
      "0    -8\n",
      "1     3\n",
      "2   -10\n",
      "3    -4\n",
      "4     0\n",
      "Name: Factor_2, dtype: int64\n"
     ]
    }
   ],
   "source": [
    "for o, outcome in enumerate(hdrs):\n",
    "    print(o, outcome)\n",
    "    if o==3:\n",
    "        print(hdrs[outcome].head())"
   ]
  },
  {
   "cell_type": "code",
   "execution_count": null,
   "metadata": {},
   "outputs": [],
   "source": []
  }
 ],
 "metadata": {
  "kernelspec": {
   "display_name": "Python 3",
   "language": "python",
   "name": "python3"
  },
  "language_info": {
   "codemirror_mode": {
    "name": "ipython",
    "version": 3
   },
   "file_extension": ".py",
   "mimetype": "text/x-python",
   "name": "python",
   "nbconvert_exporter": "python",
   "pygments_lexer": "ipython3",
   "version": "3.7.3"
  }
 },
 "nbformat": 4,
 "nbformat_minor": 4
}
